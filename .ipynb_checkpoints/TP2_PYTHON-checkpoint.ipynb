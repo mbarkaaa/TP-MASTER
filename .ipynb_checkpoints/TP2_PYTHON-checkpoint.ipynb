{
 "cells": [
  {
   "cell_type": "code",
   "execution_count": 15,
   "id": "198b308e-25b9-47a9-878d-f9de94ffa86c",
   "metadata": {},
   "outputs": [
    {
     "name": "stdout",
     "output_type": "stream",
     "text": [
      "Woof!\n"
     ]
    }
   ],
   "source": [
    "#exercice1\n",
    "class Chien:\n",
    " def __init__(self,nom,race,age):\n",
    "    self.nom=nom\n",
    "    self.race=race\n",
    "    self.age=age\n",
    " def aboyer(self):\n",
    "    print(\"Woof!\")\n",
    "monchien=Chien(\"alex\",\"B1\",5)\n",
    "monchien.aboyer()\n",
    "    "
   ]
  },
  {
   "cell_type": "code",
   "execution_count": 17,
   "id": "1ce5d95a-87fb-43bb-b903-a90e0ad7764c",
   "metadata": {},
   "outputs": [
    {
     "name": "stdout",
     "output_type": "stream",
     "text": [
      "XX,YY,2019\n"
     ]
    }
   ],
   "source": [
    "#exercice2\n",
    "class Voiture:\n",
    " def __init__(self,marque,model,annee):\n",
    "     self.marque=marque\n",
    "     self.model=model\n",
    "     self.annee=annee\n",
    " def afficher_info(self):\n",
    "     return\"{},{},{}\".format(self.marque,self.model,self.annee)\n",
    "v1=Voiture(\"XX\",\"YY\",2019)\n",
    "print(v1.afficher_info())"
   ]
  },
  {
   "cell_type": "code",
   "execution_count": 32,
   "id": "13282f53-fff7-42a4-af16-81fbd121dcc0",
   "metadata": {},
   "outputs": [
    {
     "name": "stdout",
     "output_type": "stream",
     "text": [
      "solde insuffisant\n",
      "2100\n"
     ]
    }
   ],
   "source": [
    "#exercice3\n",
    "class CompteBancaire:\n",
    "    def __init__(self,titulaire,solde):\n",
    "     self.titulaire=titulaire\n",
    "     self.solde=solde\n",
    "    def deposer(self,montant):\n",
    "        self.solde=self.solde+montant\n",
    "    def retirer(self,montant):\n",
    "        if self.solde<montant:\n",
    "            print(\"solde insuffisant\")\n",
    "        else:\n",
    "            self.solde=self.solde-montant\n",
    "    def afficher_solde(self):\n",
    "         return\"{}\".format(self.solde)    \n",
    "C1=CompteBancaire(\"Compte\",2000)\n",
    "C1.deposer(100)\n",
    "C1.retirer(5000)\n",
    "print(C1.afficher_solde())\n",
    "            "
   ]
  },
  {
   "cell_type": "code",
   "execution_count": 39,
   "id": "d1afc5c1-ce0f-4ae4-8f89-65bc3f0cba81",
   "metadata": {},
   "outputs": [],
   "source": [
    "#exercice4\n",
    "class Personne:\n",
    "    def __init__(self,nom,prenom,age):\n",
    "     self.nom=nom\n",
    "     self.prenom=prenom\n",
    "     self.age=age\n",
    "    def se_presenter(self):\n",
    "         return\"{},{},{}\".format(self.nom,self.prenom,self.age)         \n",
    "class etudiant(Personne):\n",
    "     def __init__(self,matricule):\n",
    "         super.__init__(nom,prenom,age)\n",
    "         self.matricule=matricule\n",
    "     def etudier():\n",
    "         pass\n"
   ]
  },
  {
   "cell_type": "code",
   "execution_count": 43,
   "id": "03fbc3a6-ba19-471e-8565-747deeb7fbb8",
   "metadata": {},
   "outputs": [
    {
     "name": "stdout",
     "output_type": "stream",
     "text": [
      "meow\n",
      "woof\n"
     ]
    }
   ],
   "source": [
    "#exercice5\n",
    "class Animal:\n",
    "    def faire_du_bruit():\n",
    "        pass\n",
    "class Chien(Animal):\n",
    "    def faire_du_bruit(self):\n",
    "        print(\"woof\")\n",
    "class Chat(Animal):\n",
    "    def faire_du_bruit(self):\n",
    "        print(\"meow\")   \n",
    "chat1=Chat()\n",
    "chien1=Chien()\n",
    "chat1.faire_du_bruit()\n",
    "chien1.faire_du_bruit()\n"
   ]
  },
  {
   "cell_type": "code",
   "execution_count": 54,
   "id": "cb7159e1-ef70-480f-9fa1-8dab2f1ceb41",
   "metadata": {},
   "outputs": [
    {
     "name": "stdout",
     "output_type": "stream",
     "text": [
      "30\n",
      "22\n"
     ]
    }
   ],
   "source": [
    "#exercice6\n",
    "class Rectangle:\n",
    "    def __init__(self,hauteur,largeur):\n",
    "        self.hauteur=hauteur\n",
    "        self.largeur=largeur\n",
    "    def calculer_surface(self):\n",
    "         return self.hauteur*self.largeur\n",
    "    def calculer_perimetre(self):\n",
    "        return (self.hauteur+self.largeur)*2\n",
    "rec=Rectangle(5,6)\n",
    "print(rec.calculer_surface())\n",
    "print(rec.calculer_perimetre())\n",
    "    "
   ]
  },
  {
   "cell_type": "code",
   "execution_count": 95,
   "id": "fc000185-a440-4c89-a214-cb21d317bd8b",
   "metadata": {},
   "outputs": [
    {
     "name": "stdout",
     "output_type": "stream",
     "text": [
      "JK, MLO, 2001\n",
      "JIOK, MPO, 2008\n"
     ]
    }
   ],
   "source": [
    "#exercice7\n",
    "class Livre:\n",
    "    def __init__(self,titre,auteur,annee_publication):\n",
    "        self.titre=titre\n",
    "        self.auteur=auteur\n",
    "        self.annee_publication=annee_publication\n",
    "class Bibliotheque:\n",
    "     def __init__(self,listeLivre):\n",
    "        self.listeLivre = listeLivre\n",
    "\n",
    "     def ajouter_livre(self,livre):\n",
    "         if livre not in self.listeLivre:\n",
    "             self.listeLivre.append(livre)\n",
    "     def afficher_livres(self):\n",
    "         s=\"\"\n",
    "         for livre in self.listeLivre:\n",
    "             s+= f\"{livre.titre}, {livre.auteur}, {livre.annee_publication}\\n\"\n",
    "         return s.strip()\n",
    "L1=Livre('JK','MLO',2001)\n",
    "L2=Livre('JIOK','MPO',2008)\n",
    "Biblo=Bibliotheque([L1,L2])\n",
    "print(Biblo.afficher_livres())"
   ]
  },
  {
   "cell_type": "code",
   "execution_count": 111,
   "id": "c90d9c8f-09a5-4aa8-bb79-104d2c4a2d28",
   "metadata": {},
   "outputs": [
    {
     "name": "stdout",
     "output_type": "stream",
     "text": [
      "hY,OK,23\n",
      "TYU,GT,21\n"
     ]
    }
   ],
   "source": [
    "#exercice8\n",
    "class Personne:\n",
    "    def __init__(self,nom,prenom,age):\n",
    "     self.nom=nom\n",
    "     self.prenom=prenom\n",
    "     self.age=age\n",
    "     self.listeamis =[]\n",
    "    def ajouter_ami(self,ami):\n",
    "        if ami not in self.listeamis:\n",
    "          self.listeamis.append(ami)\n",
    "    def afficher_amis(self) :\n",
    "        s=\"\"\n",
    "        for ami in self.listeamis:\n",
    "            s+=\"{},{},{}\\n\".format(ami.nom,ami.prenom,ami.age)\n",
    "        return s.strip()\n",
    "ami1=Personne(\"lila\",\"LK\",21)   \n",
    "ami2=Personne(\"hY\",\"OK\",23)  \n",
    "ami3=Personne(\"TYU\",\"GT\",21) \n",
    "ami1.ajouter_ami(ami2)\n",
    "ami1.ajouter_ami(ami3)\n",
    "print(ami1.afficher_amis())           "
   ]
  }
 ],
 "metadata": {
  "kernelspec": {
   "display_name": "Python 3 (ipykernel)",
   "language": "python",
   "name": "python3"
  },
  "language_info": {
   "codemirror_mode": {
    "name": "ipython",
    "version": 3
   },
   "file_extension": ".py",
   "mimetype": "text/x-python",
   "name": "python",
   "nbconvert_exporter": "python",
   "pygments_lexer": "ipython3",
   "version": "3.11.7"
  }
 },
 "nbformat": 4,
 "nbformat_minor": 5
}
