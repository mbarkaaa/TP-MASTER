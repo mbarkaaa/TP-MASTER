{
 "cells": [
  {
   "cell_type": "code",
   "execution_count": 31,
   "id": "7fcf1238-7e91-43be-bd88-100b1183d11f",
   "metadata": {},
   "outputs": [
    {
     "name": "stdout",
     "output_type": "stream",
     "text": [
      "4.5\n"
     ]
    }
   ],
   "source": [
    "#exercice 1\n",
    "def safe_division(a,b):\n",
    "    return a/b\n",
    "try:\n",
    "    r=safe_division(9,2)\n",
    "except ZeroDivisionError:   \n",
    "    print(\"division impossible\")\n",
    "else:\n",
    "    print(r)"
   ]
  },
  {
   "cell_type": "code",
   "execution_count": 74,
   "id": "aa059dec-87e1-442e-a513-7c732a2944e5",
   "metadata": {},
   "outputs": [],
   "source": [
    "#exercice 2\n",
    "def convert_to_value(value):\n",
    "    try:\n",
    "        val = int(value)\n",
    "        return val\n",
    "    except ValueError:\n",
    "        raise ValueError(\"conversion échoué\")"
   ]
  },
  {
   "cell_type": "code",
   "execution_count": 39,
   "id": "f58d8c8d-b4db-488a-9959-0b7f73e84177",
   "metadata": {},
   "outputs": [
    {
     "name": "stdout",
     "output_type": "stream",
     "text": [
      "fichier introuvable\n",
      "traitement terminée\n"
     ]
    }
   ],
   "source": [
    "#exercice3\n",
    "def read_file1(filename):\n",
    "    try:\n",
    "     file=open(filename,\"r\")\n",
    "    except FileNotFoundError:   \n",
    "     print(\"fichier introuvable\")\n",
    "    else:\n",
    "     print(file)\n",
    "     file.close()   \n",
    "    finally:\n",
    "     print(\"traitement terminée\")\n",
    "read_file1(\"monfichier.txt\")        "
   ]
  },
  {
   "cell_type": "code",
   "execution_count": 81,
   "id": "34b12a90-5943-43bc-991c-88fbe3116e00",
   "metadata": {},
   "outputs": [
    {
     "name": "stdout",
     "output_type": "stream",
     "text": [
      "age doit etre positive\n"
     ]
    }
   ],
   "source": [
    "#exercice 4\n",
    "class  NegativeAgeError(Exception):\n",
    "    pass\n",
    "def set_age(age):\n",
    "    if age<0:\n",
    "        raise NegativeAgeError(\"age doit etre positive\")\n",
    "    return age\n",
    "try:\n",
    "    monage=set_age(-5)\n",
    "except NegativeAgeError as e:\n",
    "    print(e)\n",
    "else:\n",
    "    print(monage)"
   ]
  },
  {
   "cell_type": "code",
   "execution_count": 30,
   "id": "f710207f-39c7-4573-80cd-5ef2a4965207",
   "metadata": {},
   "outputs": [
    {
     "name": "stdout",
     "output_type": "stream",
     "text": [
      "tu peux pas diviser sur zéro\n"
     ]
    }
   ],
   "source": [
    "#exercice 5\n",
    "def process_input(user_input):\n",
    "    newinput=int(user_input)\n",
    "    result=10/newinput\n",
    "    return result\n",
    "try:\n",
    "    process_input(0)\n",
    "except ValueError:\n",
    "    print('conversion échoué')\n",
    "except ZeroDivisionError:\n",
    "    print('tu peux pas diviser sur zéro')\n",
    "else:\n",
    "    print(process_input(0))\n",
    "    \n",
    "    "
   ]
  },
  {
   "cell_type": "code",
   "execution_count": 32,
   "id": "dbf735d4-2884-403d-acc5-8dbe814843f6",
   "metadata": {},
   "outputs": [
    {
     "name": "stdout",
     "output_type": "stream",
     "text": [
      "le resultat de cette dicivion est 4.5\n",
      "traitement terminé\n"
     ]
    }
   ],
   "source": [
    "#exercice 6\n",
    "def safe_division(a,b):\n",
    "    return a/b\n",
    "try:\n",
    "    r=safe_division(9,2)\n",
    "except ZeroDivisionError:   \n",
    "    print(\"division impossible\")\n",
    "else:\n",
    "    print(f\"le resultat de cette dicivion est {r}\")\n",
    "finally:\n",
    "    print(\"traitement terminé\")"
   ]
  },
  {
   "cell_type": "code",
   "execution_count": 11,
   "id": "b56c4c92-9304-4377-9d5c-dae400d03a1a",
   "metadata": {},
   "outputs": [],
   "source": [
    "#exercice 7\n",
    "import logging\n",
    "logging.basicConfig(filename=\"exercice6.log\",level=logging.ERROR,filemode=\"r\")\n",
    "logger = logging.getLogger()\n",
    "def log_error(message):\n",
    "    logger.error(message)\n",
    "log_error(\"ERROR\")    "
   ]
  },
  {
   "cell_type": "code",
   "execution_count": 46,
   "id": "1ac68aae-6cb4-49dc-8488-7da7eed83106",
   "metadata": {},
   "outputs": [
    {
     "name": "stdout",
     "output_type": "stream",
     "text": [
      "fichier introuvable\n",
      "fin de traitement\n"
     ]
    }
   ],
   "source": [
    "def read_file(filename):\n",
    "    try:\n",
    "     file=open(filename,\"r\")\n",
    "    except FileNotFoundError as e:   \n",
    "     print(\"fichier introuvable\")   \n",
    "     log_error(e)   \n",
    "    else:\n",
    "     print(file)\n",
    "     file.close()    \n",
    "    finally:\n",
    "     print(\"fin de traitement\")  \n",
    "read_file(\"monfichier.txt\")      "
   ]
  },
  {
   "cell_type": "code",
   "execution_count": 82,
   "id": "6f0236f0-47b8-44bb-ab4b-447a679028b3",
   "metadata": {},
   "outputs": [
    {
     "name": "stderr",
     "output_type": "stream",
     "text": [
      "test_check_exception (__main__.TestStringMethods.test_check_exception) ... ok\n",
      "test_check_exception1 (__main__.TestStringMethods.test_check_exception1) ... ok\n",
      "\n",
      "----------------------------------------------------------------------\n",
      "Ran 2 tests in 0.006s\n",
      "\n",
      "OK\n"
     ]
    },
    {
     "data": {
      "text/plain": [
       "<unittest.main.TestProgram at 0x1fe4a79b4d0>"
      ]
     },
     "execution_count": 82,
     "metadata": {},
     "output_type": "execute_result"
    }
   ],
   "source": [
    "#exercice8\n",
    "class TestStringMethods(unittest.TestCase):\n",
    "    def test_check_exception(self):\n",
    "        with self.assertRaises(ZeroDivisionError) as context:\n",
    "            safe_division(9,0)\n",
    "        self.assertEqual(str(context.exception),\"division by zero\") \n",
    "    def test_check_exception1(self):\n",
    "        with self.assertRaises(ValueError) as context1:\n",
    "            convert_to_value(\"hi\")\n",
    "        self.assertEqual(str(context1.exception),\"conversion échoué\") \n",
    "unittest.main(argv=[''], verbosity=2, exit=False)"
   ]
  },
  {
   "cell_type": "code",
   "execution_count": 76,
   "id": "88fda433-9e88-4fa7-9525-8a5f2f047d20",
   "metadata": {},
   "outputs": [
    {
     "name": "stderr",
     "output_type": "stream",
     "text": [
      "test_check_exception3 (__main__.TestStringMethods.test_check_exception3) ... ok\n",
      "\n",
      "----------------------------------------------------------------------\n",
      "Ran 1 test in 0.006s\n",
      "\n",
      "OK\n"
     ]
    },
    {
     "data": {
      "text/plain": [
       "<unittest.main.TestProgram at 0x1fe4a4a9b90>"
      ]
     },
     "execution_count": 76,
     "metadata": {},
     "output_type": "execute_result"
    }
   ],
   "source": [
    "from unittest.mock import patch\n",
    "from io import StringIO  # Import StringIO to capture printed output\n",
    "\n",
    "class TestStringMethods(unittest.TestCase):\n",
    "    @patch('sys.stdout', new_callable=StringIO)  # Use StringIO to capture the output\n",
    "    def test_check_exception3(self, mock_stdout):\n",
    "        # Call the function that will print the error message\n",
    "        read_file(\"monfichier.txt\")\n",
    "\n",
    "        # Check that the error message was printed\n",
    "        self.assertIn(\"fichier introuvable\", mock_stdout.getvalue())\n",
    "\n",
    "unittest.main(argv=[''], verbosity=2, exit=False)"
   ]
  },
  {
   "cell_type": "code",
   "execution_count": 1,
   "id": "11b53aee-081b-4288-aa72-06aeb44676c8",
   "metadata": {},
   "outputs": [
    {
     "name": "stdin",
     "output_type": "stream",
     "text": [
      "entrer un entier -7\n"
     ]
    },
    {
     "name": "stdout",
     "output_type": "stream",
     "text": [
      "le nombre doit étre positive\n"
     ]
    },
    {
     "name": "stdin",
     "output_type": "stream",
     "text": [
      "entrer un entier è\n"
     ]
    },
    {
     "name": "stdout",
     "output_type": "stream",
     "text": [
      "le nombre doit étre un entier\n"
     ]
    },
    {
     "name": "stdin",
     "output_type": "stream",
     "text": [
      "entrer un entier 7\n"
     ]
    },
    {
     "name": "stdout",
     "output_type": "stream",
     "text": [
      "L'entier positif saisi est : 7\n"
     ]
    }
   ],
   "source": [
    "#exercice 9\n",
    "class  NegativeAgeError(Exception):\n",
    "    pass\n",
    "def get_positive_integer():\n",
    "  while True:  \n",
    "   try:\n",
    "     x=int(input(\"entrer un entier\"))\n",
    "     if x<0:   \n",
    "      raise NegativeAgeError(\"le nombre doit étre positive\")\n",
    "     return x    \n",
    "   except NegativeAgeError as e:   \n",
    "     print(e)\n",
    "   except ValueError :\n",
    "    print(\"le nombre doit étre un entier\")   \n",
    "   except TypeError :\n",
    "    print(\"le nombre doit étre de type entier\")       \n",
    "result = get_positive_integer()\n",
    "print(f\"L'entier positif saisi est : {result}\")  "
   ]
  },
  {
   "cell_type": "code",
   "execution_count": 5,
   "id": "64219091-4786-4630-ad7d-b08c58f52f10",
   "metadata": {},
   "outputs": [
    {
     "name": "stdin",
     "output_type": "stream",
     "text": [
      "Veuillez entrer le nom du fichier à lire :  ,k\n"
     ]
    },
    {
     "name": "stdout",
     "output_type": "stream",
     "text": [
      "Le fichier introuvable.\n",
      "None\n"
     ]
    },
    {
     "name": "stdin",
     "output_type": "stream",
     "text": [
      "Veuillez entrer un entier positif :  -7\n"
     ]
    },
    {
     "name": "stdout",
     "output_type": "stream",
     "text": [
      "Erreur : L'entier doit être positif.\n"
     ]
    },
    {
     "name": "stdin",
     "output_type": "stream",
     "text": [
      "Veuillez entrer un entier positif :  è\n"
     ]
    },
    {
     "name": "stdout",
     "output_type": "stream",
     "text": [
      "Erreur : invalid literal for int() with base 10: 'è'\n"
     ]
    },
    {
     "name": "stdin",
     "output_type": "stream",
     "text": [
      "Veuillez entrer un entier positif :  7\n"
     ]
    }
   ],
   "source": [
    "#exercice 10\n",
    "def read_file(filename):\n",
    "    try:\n",
    "        with open(filename, 'r') as file:\n",
    "            content = file.read()\n",
    "        print(\"Le contenu du fichier est :\")\n",
    "        print(content)\n",
    "    except FileNotFoundError:\n",
    "        print(\"Le fichier introuvable.\")\n",
    "    except PermissionError:\n",
    "        print(\"Permission refusée pour accéder au fichier.\")\n",
    "    except Exception as e:\n",
    "        print(\"Une erreur est survenue lors de la lecture du fichier \")\n",
    "\n",
    "def get_positive_integer():\n",
    "    while True:\n",
    "        try:\n",
    "            x = int(input(\"Veuillez entrer un entier positif : \"))\n",
    "            if x < 0:\n",
    "                raise ValueError(\"L'entier doit être positif.\")\n",
    "            return x\n",
    "        except ValueError as e:\n",
    "            print(f\"Erreur : {e}\")\n",
    "\n",
    "filename = input(\"Veuillez entrer le nom du fichier à lire : \")\n",
    "print(read_file(filename))\n",
    "r=get_positive_integer()\n"
   ]
  },
  {
   "cell_type": "code",
   "execution_count": null,
   "id": "b2d87211-cc5c-4fb4-b169-539737a2532b",
   "metadata": {},
   "outputs": [],
   "source": []
  }
 ],
 "metadata": {
  "kernelspec": {
   "display_name": "Python 3 (ipykernel)",
   "language": "python",
   "name": "python3"
  },
  "language_info": {
   "codemirror_mode": {
    "name": "ipython",
    "version": 3
   },
   "file_extension": ".py",
   "mimetype": "text/x-python",
   "name": "python",
   "nbconvert_exporter": "python",
   "pygments_lexer": "ipython3",
   "version": "3.11.7"
  }
 },
 "nbformat": 4,
 "nbformat_minor": 5
}
