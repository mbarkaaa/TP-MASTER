{
 "cells": [
  {
   "cell_type": "code",
   "execution_count": 1,
   "id": "32afaf8f-93ef-4c6a-b779-c3ef4937770f",
   "metadata": {},
   "outputs": [],
   "source": [
    "#exercice 1\n",
    "fichier=open(\"exemple.txt\",\"w\")"
   ]
  },
  {
   "cell_type": "code",
   "execution_count": 4,
   "id": "b77483f9-6dd6-4877-89fa-903453e565b5",
   "metadata": {},
   "outputs": [
    {
     "data": {
      "text/plain": [
       "520"
      ]
     },
     "execution_count": 4,
     "metadata": {},
     "output_type": "execute_result"
    }
   ],
   "source": [
    "fichier=open(\"exemple.txt\",\"a\")\n",
    "fichier.write(\"\"\"La statistique ou les statistiques1 est la discipline qui étudie\n",
    "des phénomènes à travers la collecte de données,leur traitement, leur analyse, l'interprétation des résultats \n",
    "et leur présentation afin de rendre ces données compréhensibles par tous.Cest à la fois une branche des\n",
    "mathématiques appliquées2, une méthode et un ensemble de techniques.La statistique est un domaine des mathématiques et de \n",
    "plus en plus, elle fait partie de ce que l'on appelle aujourd'hui la science des données (en anglais : Data Science).\"\"\")"
   ]
  },
  {
   "cell_type": "code",
   "execution_count": 15,
   "id": "ded8c282-168e-491c-ae99-0a60eb03d97b",
   "metadata": {},
   "outputs": [
    {
     "name": "stdout",
     "output_type": "stream",
     "text": [
      "1 La statistique ou les statistiques1 est la discipline qui étudie\n",
      "\n",
      "2 des phénomènes à travers la collecte de données,leur traitement, leur analyse, l'interprétation des résultats \n",
      "\n",
      "3 et leur présentation afin de rendre ces données compréhensibles par tous.Cest à la fois une branche des\n",
      "\n",
      "4 mathématiques appliquées2, une méthode et un ensemble de techniques.La statistique est un domaine des mathématiques et de \n",
      "\n",
      "5 plus en plus, elle fait partie de ce que l'on appelle aujourd'hui la science des données (en anglais : Data Science).\n"
     ]
    }
   ],
   "source": [
    "fichier=open(\"exemple.txt\",\"r\")\n",
    "for a in range(1, 6, 1):\n",
    "   print(a,fichier.readline())"
   ]
  },
  {
   "cell_type": "code",
   "execution_count": 30,
   "id": "064d899a-2638-459e-90e0-77bd13e118c4",
   "metadata": {},
   "outputs": [
    {
     "name": "stdin",
     "output_type": "stream",
     "text": [
      "entre une phrases\n",
      " h\n",
      "entre une phrases\n",
      " j\n",
      "entre une phrases\n",
      " k\n"
     ]
    }
   ],
   "source": [
    "#exercice 2\n",
    "f=open(\"phrase.txt\",\"w\")\n",
    "f=open(\"phrase.txt\",\"a\")\n",
    "for a in range(0, 3, 1):\n",
    "   phr=input(\"entre une phrases\\n\")\n",
    "   f.write(phr+\"\\n\")"
   ]
  },
  {
   "cell_type": "code",
   "execution_count": 34,
   "id": "922980f8-49b4-4290-8791-f9b52033ce5b",
   "metadata": {},
   "outputs": [
    {
     "name": "stdin",
     "output_type": "stream",
     "text": [
      "voulez-vous entrer d'autres phrases no\n"
     ]
    }
   ],
   "source": [
    "#exercice 3\n",
    "f=open(\"phrase.txt\",\"a\")\n",
    "reponse=input(\"voulez-vous entrer d'autres phrases\")\n",
    "if reponse==\"oui\":\n",
    "    for a in range(0, 3, 1):\n",
    "      phr=input(\"entre une phrases\\n\")\n",
    "      f.write(phr+\"\\n\")\n"
   ]
  },
  {
   "cell_type": "code",
   "execution_count": 38,
   "id": "af834f32-55bc-4cc6-b3d3-3025ee34cef8",
   "metadata": {},
   "outputs": [
    {
     "name": "stdout",
     "output_type": "stream",
     "text": [
      "nom;age;ville;\n",
      "\n",
      "Nada;30;Agaidr;\n",
      "\n",
      "Amira;23;Agaidr;\n",
      "\n",
      "Hala;29;Agaidr;\n",
      "\n"
     ]
    }
   ],
   "source": [
    "#exercice 4\n",
    "import csv \n",
    "f=open(\"ex.csv\",\"r\")\n",
    "for x in f:\n",
    "     print(x)"
   ]
  },
  {
   "cell_type": "code",
   "execution_count": 42,
   "id": "afd1312c-4eb0-4c09-ba10-146a96e0c3da",
   "metadata": {},
   "outputs": [
    {
     "name": "stdout",
     "output_type": "stream",
     "text": [
      "{'nom': 'alex', 'age': 22, 'note': 10}\n",
      "{'nom': 'may', 'age': 21, 'note': 19}\n",
      "{'nom': 'hala', 'age': 22, 'note': 17}\n"
     ]
    }
   ],
   "source": [
    "#exercice 5\n",
    "dictionnaire=[\n",
    "              {\"nom\":\"alex\",\"age\":22,\"note\":10},\n",
    "              {\"nom\":\"may\",\"age\":21,\"note\":19}, \n",
    "              {\"nom\":\"hala\",\"age\":22,\"note\":17}\n",
    "]\n",
    "for x in dictionnaire:\n",
    "    print(x)"
   ]
  },
  {
   "cell_type": "code",
   "execution_count": 43,
   "id": "f2e9292b-f9f9-4fca-ae45-27505fc7def9",
   "metadata": {},
   "outputs": [],
   "source": [
    "import json\n",
    "file=open(\"etudiants.json\",\"w\")"
   ]
  },
  {
   "cell_type": "code",
   "execution_count": 46,
   "id": "0fa6de1f-fa63-4823-8d3d-d9a0fc9908a5",
   "metadata": {},
   "outputs": [],
   "source": [
    "file=open(\"etudiants.json\",\"a\")\n",
    "json.dump(dictionnaire,file,indent=4)"
   ]
  },
  {
   "cell_type": "code",
   "execution_count": 48,
   "id": "2f204533-945a-4a46-850f-ef8a738eef2b",
   "metadata": {},
   "outputs": [],
   "source": [
    "#exercice 6\n",
    "import os \n",
    "os.rename(\"phrase.txt\",\"anciennes_phrases.txt\")"
   ]
  },
  {
   "cell_type": "code",
   "execution_count": 49,
   "id": "baba851e-f399-4e45-8372-57ae6fea40d8",
   "metadata": {},
   "outputs": [],
   "source": [
    "os.remove(\"anciennes_phrases.txt\")"
   ]
  },
  {
   "cell_type": "code",
   "execution_count": 52,
   "id": "c3bf18a2-46a5-4cc9-89ae-71a091dde86b",
   "metadata": {},
   "outputs": [
    {
     "data": {
      "text/plain": [
       "329"
      ]
     },
     "execution_count": 52,
     "metadata": {},
     "output_type": "execute_result"
    }
   ],
   "source": [
    "#exercice 7\n",
    "fichier2=open(\"journal.txt\",\"w\")\n",
    "fichier2=open(\"journal.txt\",\"a\")\n",
    "fichier2.write(\"\"\"The main operations on a dictionary are storing a value with some key and extracting the value given the key. \n",
    "It is also possible to delete a key:value pair with del. If you store using a key that is already in use, \n",
    "the old value associated with that keyis forgotten.\n",
    "It is an error to extract a value using a non-existent key.\"\"\")"
   ]
  },
  {
   "cell_type": "code",
   "execution_count": 53,
   "id": "2b433bff-cdb5-4601-8063-0f03476b5c8a",
   "metadata": {},
   "outputs": [
    {
     "data": {
      "text/plain": [
       "'journal_copie.txt'"
      ]
     },
     "execution_count": 53,
     "metadata": {},
     "output_type": "execute_result"
    }
   ],
   "source": [
    "import shutil\n",
    "fichier_copie=open(\"journal_copie.txt\",\"w\")\n",
    "shutil.copy(\"journal.txt\",\"journal_copie.txt\")"
   ]
  },
  {
   "cell_type": "code",
   "execution_count": 55,
   "id": "0b8b26da-08bd-42f0-acd9-a02608063c14",
   "metadata": {},
   "outputs": [
    {
     "ename": "Error",
     "evalue": "Destination path 'archives\\journal_copie.txt' already exists",
     "output_type": "error",
     "traceback": [
      "\u001b[1;31m---------------------------------------------------------------------------\u001b[0m",
      "\u001b[1;31mError\u001b[0m                                     Traceback (most recent call last)",
      "Cell \u001b[1;32mIn[55], line 1\u001b[0m\n\u001b[1;32m----> 1\u001b[0m shutil\u001b[38;5;241m.\u001b[39mmove(\u001b[38;5;124m\"\u001b[39m\u001b[38;5;124mjournal_copie.txt\u001b[39m\u001b[38;5;124m\"\u001b[39m,\u001b[38;5;124m\"\u001b[39m\u001b[38;5;124marchives\u001b[39m\u001b[38;5;124m\"\u001b[39m)\n",
      "File \u001b[1;32m~\\anaconda3\\Lib\\shutil.py:823\u001b[0m, in \u001b[0;36mmove\u001b[1;34m(src, dst, copy_function)\u001b[0m\n\u001b[0;32m    820\u001b[0m     real_dst \u001b[38;5;241m=\u001b[39m os\u001b[38;5;241m.\u001b[39mpath\u001b[38;5;241m.\u001b[39mjoin(dst, _basename(src))\n\u001b[0;32m    822\u001b[0m     \u001b[38;5;28;01mif\u001b[39;00m os\u001b[38;5;241m.\u001b[39mpath\u001b[38;5;241m.\u001b[39mexists(real_dst):\n\u001b[1;32m--> 823\u001b[0m         \u001b[38;5;28;01mraise\u001b[39;00m Error(\u001b[38;5;124m\"\u001b[39m\u001b[38;5;124mDestination path \u001b[39m\u001b[38;5;124m'\u001b[39m\u001b[38;5;132;01m%s\u001b[39;00m\u001b[38;5;124m'\u001b[39m\u001b[38;5;124m already exists\u001b[39m\u001b[38;5;124m\"\u001b[39m \u001b[38;5;241m%\u001b[39m real_dst)\n\u001b[0;32m    824\u001b[0m \u001b[38;5;28;01mtry\u001b[39;00m:\n\u001b[0;32m    825\u001b[0m     os\u001b[38;5;241m.\u001b[39mrename(src, real_dst)\n",
      "\u001b[1;31mError\u001b[0m: Destination path 'archives\\journal_copie.txt' already exists"
     ]
    }
   ],
   "source": [
    "shutil.move(\"journal_copie.txt\",\"archives\")"
   ]
  },
  {
   "cell_type": "code",
   "execution_count": 57,
   "id": "d2765fce-6050-494d-a6cf-f943c38ed7fe",
   "metadata": {},
   "outputs": [
    {
     "name": "stdout",
     "output_type": "stream",
     "text": [
      "fichier introuvable\n"
     ]
    }
   ],
   "source": [
    "#exercice 8\n",
    "try:\n",
    "   f=open(\"inexistant.txt\",\"r\")\n",
    "except FileNotFoundError:\n",
    "    print(\"fichier introuvable\")\n",
    "else:\n",
    "    print(\"voici le fichier\")"
   ]
  },
  {
   "cell_type": "code",
   "execution_count": 85,
   "id": "c031cbb5-3f00-46a6-9ed7-c896eb534958",
   "metadata": {},
   "outputs": [
    {
     "name": "stdout",
     "output_type": "stream",
     "text": [
      "cette ligne numéro 1 contient 111 cractéres\n",
      "cette ligne contient 20 mots\n",
      "cette ligne numéro 2 contient 107 cractéres\n",
      "cette ligne contient 42 mots\n",
      "cette ligne numéro 3 contient 52 cractéres\n",
      "cette ligne contient 49 mots\n",
      "cette ligne numéro 4 contient 59 cractéres\n",
      "cette ligne contient 60 mots\n",
      "le nombre de lignes est 4\n"
     ]
    }
   ],
   "source": [
    "#exercice 9\n",
    "f=open(\"journal.txt\",\"r\")\n",
    "a=0\n",
    "nbr_lignes=0\n",
    "for x in f:\n",
    "    nbr_lignes=nbr_lignes+1\n",
    "    print(f\"cette ligne numéro {nbr_lignes} contient {len(x)} cractéres\")\n",
    "    for i in range(0,len(x),1):    \n",
    "      if x[i]==' ':\n",
    "       a=a+1\n",
    "    print(f\"cette ligne contient {a} mots\")\n",
    "print(f\"le nombre de lignes est {nbr_lignes}\")    \n",
    "    "
   ]
  },
  {
   "cell_type": "code",
   "execution_count": null,
   "id": "bb2d316c-e193-41f6-bd9f-3d83dc780c36",
   "metadata": {},
   "outputs": [],
   "source": [
    "f=open(\"etu.csv\", \"w\")"
   ]
  },
  {
   "cell_type": "code",
   "execution_count": 140,
   "id": "6ed07f29-6367-4f85-a94a-9e2e7a86bdc1",
   "metadata": {},
   "outputs": [],
   "source": [
    "#exercice 10\n",
    "def ajouter_contact():\n",
    "    nom = input(\"Entrez le nom : \")\n",
    "    telephone = input(\"Entrez le téléphone : \")\n",
    "    email = input(\"Entrez l'email : \")\n",
    "    with open(\"etu.csv\", \"a\", newline=\"\") as f:\n",
    "     writer = csv.writer(f)\n",
    "     writer.writerow([nom, telephone, email])\n",
    "     print(\"Contact ajouté avec succès.\")\n",
    "def afficher_contacts():\n",
    "    with open(\"etu.csv\", \"r\", newline=\"\") as f:\n",
    "     lecture=csv.reader(f)\n",
    "     for x in lecture:\n",
    "      print(\"Liste des contacts :\")\n",
    "      print(x)\n",
    "def rechercher_nom():\n",
    "    nom = input(\"Entrez le nom à recherché : \")\n",
    "    with open(\"etu.csv\", \"r\", newline=\"\") as f:\n",
    "     lecture=csv.reader(f)\n",
    "     existe=0   \n",
    "     for x in lecture: \n",
    "        if x[0]==nom:\n",
    "          existe=1  \n",
    "          print(x) \n",
    "          break  \n",
    "     if existe==0:\n",
    "          print('etudiant introuvable')        \n",
    "def supprimer_contact():\n",
    "    nom = input(\"Entrez le nom à supprimer : \")\n",
    "    with open(\"etu.csv\", \"r\", newline=\"\") as f:\n",
    "     lecture=list(csv.reader(f))\n",
    "     mescontacts=[x for x in lecture if x and x[0] != nom]   \n",
    "    if len(mescontacts) < len(lecture):  \n",
    "        with open(\"etu.csv\", \"w\") as f:\n",
    "            writer = csv.writer(f)\n",
    "            writer.writerows(mescontacts)  \n",
    "        print(\"Contact supprimé avec succès.\")\n",
    "    else:\n",
    "        print(\"Étudiant introuvable.\")\n",
    "            "
   ]
  },
  {
   "cell_type": "code",
   "execution_count": 143,
   "id": "f1746d0d-cde9-46d3-a800-cc995dcc62e9",
   "metadata": {},
   "outputs": [
    {
     "name": "stdout",
     "output_type": "stream",
     "text": [
      "\n",
      "--- Menu ---\n",
      "1. Ajouter un contact\n",
      "2. Afficher tous les contacts\n",
      "3. Rechercher un contact\n",
      "4. Supprimer un contact\n"
     ]
    },
    {
     "name": "stdin",
     "output_type": "stream",
     "text": [
      "Choisissez une option :  2\n"
     ]
    },
    {
     "name": "stdout",
     "output_type": "stream",
     "text": [
      "Liste des contacts :\n",
      "['meryam', '0675421', 'MERI@gmail.com']\n",
      "Liste des contacts :\n",
      "[]\n"
     ]
    }
   ],
   "source": [
    "print(\"\\n--- Menu ---\")\n",
    "print(\"1. Ajouter un contact\")\n",
    "print(\"2. Afficher tous les contacts\")\n",
    "print(\"3. Rechercher un contact\")\n",
    "print(\"4. Supprimer un contact\")\n",
    "choix = input(\"Choisissez une option : \")\n",
    "if choix == \"1\":\n",
    "    ajouter_contact()\n",
    "elif choix == \"2\":\n",
    "    afficher_contacts()\n",
    "elif choix == \"3\":\n",
    "    rechercher_nom()\n",
    "elif choix == \"4\":\n",
    "    supprimer_contact()\n",
    "else:\n",
    "    print(\"Option invalide, veuillez réessayer.\")"
   ]
  }
 ],
 "metadata": {
  "kernelspec": {
   "display_name": "Python 3 (ipykernel)",
   "language": "python",
   "name": "python3"
  },
  "language_info": {
   "codemirror_mode": {
    "name": "ipython",
    "version": 3
   },
   "file_extension": ".py",
   "mimetype": "text/x-python",
   "name": "python",
   "nbconvert_exporter": "python",
   "pygments_lexer": "ipython3",
   "version": "3.11.7"
  }
 },
 "nbformat": 4,
 "nbformat_minor": 5
}
