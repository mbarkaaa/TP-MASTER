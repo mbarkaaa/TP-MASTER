{
 "cells": [
  {
   "cell_type": "code",
   "execution_count": 21,
   "id": "83d34ce2-c39e-47bb-89bd-92919e0d7e9f",
   "metadata": {},
   "outputs": [],
   "source": [
    "def somme(liste):\n",
    "  s=0\n",
    "  for i in range (0,len(liste)):\n",
    "   s=s+liste[i]\n",
    "  print(s)\n",
    " "
   ]
  },
  {
   "cell_type": "code",
   "execution_count": 22,
   "id": "498b72a3-59c0-4bbb-a9f2-14a12f452df4",
   "metadata": {},
   "outputs": [
    {
     "name": "stdout",
     "output_type": "stream",
     "text": [
      "16\n"
     ]
    }
   ],
   "source": [
    "somme([1,3,6,6])"
   ]
  },
  {
   "cell_type": "code",
   "execution_count": 28,
   "id": "367f8a90-0535-4546-8f3c-ee9d8a6c2593",
   "metadata": {},
   "outputs": [],
   "source": [
    "def somme2(liste):\n",
    "    print(sum(liste))"
   ]
  },
  {
   "cell_type": "code",
   "execution_count": 29,
   "id": "23fd3f80-c1df-437f-a7c6-67c90d8f4d2a",
   "metadata": {},
   "outputs": [
    {
     "name": "stdout",
     "output_type": "stream",
     "text": [
      "16\n"
     ]
    }
   ],
   "source": [
    "somme2([1,3,6,6])"
   ]
  },
  {
   "cell_type": "code",
   "execution_count": 51,
   "id": "6bc16908-8723-4b17-b549-7253e5b947d3",
   "metadata": {},
   "outputs": [],
   "source": [
    "def max_tuple(t):\n",
    "    max=t[0]\n",
    "    for i in range(1,len(t)):\n",
    "      if max<t[i]:\n",
    "          max=t[i]\n",
    "    print(max)"
   ]
  },
  {
   "cell_type": "code",
   "execution_count": 52,
   "id": "3bb2a8d7-eaed-4888-a978-5b0b45a513bb",
   "metadata": {},
   "outputs": [
    {
     "name": "stdout",
     "output_type": "stream",
     "text": [
      "6\n"
     ]
    }
   ],
   "source": [
    "max_tuple((1,3,6,6))"
   ]
  },
  {
   "cell_type": "code",
   "execution_count": 59,
   "id": "d043438b-86ee-49de-a662-ccd66e366464",
   "metadata": {},
   "outputs": [],
   "source": [
    "def intersection(ensemble1, ensemble2):\n",
    "   ensemble3= ensemble1|ensemble2\n",
    "   print(ensemble3)"
   ]
  },
  {
   "cell_type": "code",
   "execution_count": 61,
   "id": "68e18876-5b5b-4647-90d0-78bb27aca508",
   "metadata": {},
   "outputs": [
    {
     "name": "stdout",
     "output_type": "stream",
     "text": [
      "{'lara', 'James', 20, 23}\n"
     ]
    }
   ],
   "source": [
    "intersection({\"James\",20},{\"lara\",23})"
   ]
  },
  {
   "cell_type": "code",
   "execution_count": 88,
   "id": "b5e2d636-7233-40c1-9e81-b8a366894ddb",
   "metadata": {},
   "outputs": [],
   "source": [
    "def compte_occurences(liste):\n",
    "    dictionnaire = {}  \n",
    "    for x in liste:\n",
    "        if x in dictionnaire:\n",
    "            dictionnaire[x] += 1 \n",
    "        else:\n",
    "            dictionnaire[x] = 1 \n",
    "    print(dictionnaire) "
   ]
  },
  {
   "cell_type": "code",
   "execution_count": 90,
   "id": "c913a8dc-f986-4eb0-8241-480184a5285d",
   "metadata": {},
   "outputs": [
    {
     "name": "stdout",
     "output_type": "stream",
     "text": [
      "{'James': 3, 'lara': 2}\n"
     ]
    }
   ],
   "source": [
    "compte_occurences([\"James\",\"lara\",\"James\",\"lara\",\"James\"])"
   ]
  },
  {
   "cell_type": "code",
   "execution_count": 141,
   "id": "5718fd4f-c6cf-4f41-bb98-af7bf0555c7c",
   "metadata": {},
   "outputs": [],
   "source": [
    "#exercices sur les fonctions\n",
    "#ex5:\n",
    "def factorielle(n):\n",
    "    f=1\n",
    "    for i in range(1,n):\n",
    "        f=f*(i+1)\n",
    "    print(f)\n"
   ]
  },
  {
   "cell_type": "code",
   "execution_count": 142,
   "id": "cbabf223-c713-4189-b6bf-930d0f73b293",
   "metadata": {},
   "outputs": [
    {
     "name": "stdout",
     "output_type": "stream",
     "text": [
      "720\n"
     ]
    }
   ],
   "source": [
    "factorielle(6)"
   ]
  },
  {
   "cell_type": "code",
   "execution_count": 153,
   "id": "96764282-5f55-4369-96cf-67e674e415c1",
   "metadata": {},
   "outputs": [
    {
     "name": "stdout",
     "output_type": "stream",
     "text": [
      "25\n"
     ]
    }
   ],
   "source": [
    "#ex6\n",
    "def carre():\n",
    " return lambda n:n*n\n",
    "p=carre()\n",
    "print(p(5))"
   ]
  },
  {
   "cell_type": "code",
   "execution_count": 158,
   "id": "276f6bf8-8736-4897-9693-076846a1dfef",
   "metadata": {},
   "outputs": [
    {
     "name": "stdout",
     "output_type": "stream",
     "text": [
      "laila Bonjour\n"
     ]
    }
   ],
   "source": [
    "#ex7\n",
    "def salutation(nom, message=\"Bonjour\"):\n",
    "    print(nom,message)\n",
    "salutation(\"laila\")  "
   ]
  },
  {
   "cell_type": "code",
   "execution_count": 159,
   "id": "df9ceb63-cf24-4d95-b0f1-a5bd91952bc1",
   "metadata": {},
   "outputs": [],
   "source": [
    "#ex8\n",
    "def somme_varargs(*args):\n",
    "    x=sum(args)\n",
    "    print(x)"
   ]
  },
  {
   "cell_type": "code",
   "execution_count": 160,
   "id": "02f7c085-beb7-4f48-9727-56688ca7165b",
   "metadata": {},
   "outputs": [
    {
     "name": "stdout",
     "output_type": "stream",
     "text": [
      "128\n"
     ]
    }
   ],
   "source": [
    "somme_varargs(20,98,10)"
   ]
  },
  {
   "cell_type": "code",
   "execution_count": 253,
   "id": "3e9a06fa-6d95-4de6-a12e-a46cc59440f6",
   "metadata": {},
   "outputs": [],
   "source": [
    "#ex9\n",
    "def analyse_texte(texte):\n",
    "    nbr=0\n",
    "    dic={}\n",
    "    for i in range(0,len(texte)):\n",
    "        if texte[i]==\" \":\n",
    "            nbr=nbr+1\n",
    "            dic[i]=nbr\n",
    "            dic.keys()==len(texte)-nbr\n",
    "    print(dic)\n",
    "    print(dic.keys())\n",
    "    print(dic.values())\n",
    "    print(len(texte))"
   ]
  },
  {
   "cell_type": "code",
   "execution_count": 254,
   "id": "5812cdc7-bf06-487a-913d-010ed45ab26d",
   "metadata": {},
   "outputs": [
    {
     "name": "stdout",
     "output_type": "stream",
     "text": [
      "{6: 1, 12: 2, 18: 3}\n",
      "dict_keys([6, 12, 18])\n",
      "dict_values([1, 2, 3])\n",
      "19\n",
      "None\n"
     ]
    }
   ],
   "source": [
    "print(analyse_texte(\"helloo world koiji \"))"
   ]
  },
  {
   "cell_type": "code",
   "execution_count": null,
   "id": "e905bd55-c049-41be-a094-2ebd187367e7",
   "metadata": {},
   "outputs": [],
   "source": [
    "dic[i]=nbr+1"
   ]
  },
  {
   "cell_type": "code",
   "execution_count": 14,
   "id": "15b5a0b9-631e-448f-a070-690b853ccac8",
   "metadata": {},
   "outputs": [],
   "source": [
    "#ex10\n",
    "def fusionner_dicts(dict1, dict2):\n",
    "    mondict = {}\n",
    "    for key in set(dict1.keys()).union(dict2.keys()):  # Combine les clés des deux dictionnaires\n",
    "        if key in dict1 and key in dict2:  # Si la clé existe dans les deux\n",
    "            if isinstance(dict1[key], dict) and isinstance(dict2[key], dict):  # Si les valeurs sont des dictionnaires\n",
    "                mondict[key] = fusionner_dicts(dict1[key], dict2[key])  # Appel récursif pour fusionner les sous-dictionnaires\n",
    "            else:\n",
    "                mondict[key] = [dict1[key]+ dict2[key]]  # Combine les valeurs dans une liste\n",
    "        elif key in dict1:\n",
    "            mondict[key] = dict1[key]  # Ajoute la valeur depuis dict1\n",
    "        else:\n",
    "            mondict[key] = dict2[key]  # Ajoute la valeur depuis dict2\n",
    "    return mondict"
   ]
  },
  {
   "cell_type": "code",
   "execution_count": 15,
   "id": "bbf70181-c4c2-49f0-acc6-f5fb36049f26",
   "metadata": {},
   "outputs": [
    {
     "data": {
      "text/plain": [
       "{'loi': [6], 'marya': 2, 'kl': 7, 'alex': [2]}"
      ]
     },
     "execution_count": 15,
     "metadata": {},
     "output_type": "execute_result"
    }
   ],
   "source": [
    "fusionner_dicts({\"alex\": 1, \"marya\": 2, \"loi\": 3}, {\"alex\": 1, \"kl\": 7, \"loi\": 3})"
   ]
  }
 ],
 "metadata": {
  "kernelspec": {
   "display_name": "Python 3 (ipykernel)",
   "language": "python",
   "name": "python3"
  },
  "language_info": {
   "codemirror_mode": {
    "name": "ipython",
    "version": 3
   },
   "file_extension": ".py",
   "mimetype": "text/x-python",
   "name": "python",
   "nbconvert_exporter": "python",
   "pygments_lexer": "ipython3",
   "version": "3.11.7"
  }
 },
 "nbformat": 4,
 "nbformat_minor": 5
}
