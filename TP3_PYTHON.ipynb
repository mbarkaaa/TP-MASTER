{
 "cells": [
  {
   "cell_type": "code",
   "execution_count": 31,
   "id": "e46b5c73-ff59-4843-837d-0ba57c8aa69c",
   "metadata": {},
   "outputs": [
    {
     "name": "stdout",
     "output_type": "stream",
     "text": [
      "Surface du cercle: 78.53975\n",
      "Surface du rectangle: 24\n"
     ]
    }
   ],
   "source": [
    "#Exercice1\n",
    "from abc import ABC, abstractmethod\n",
    "\n",
    "class Forme(ABC):\n",
    "    @abstractmethod\n",
    "    def calculer_surface(self):\n",
    "        pass\n",
    "\n",
    "class Cercle(Forme):\n",
    "    def __init__(self, rayon):\n",
    "        self.rayon = rayon\n",
    "\n",
    "    def calculer_surface(self):\n",
    "        return 3.14159 * self.rayon ** 2\n",
    "\n",
    "class Rectangle(Forme):\n",
    "    def __init__(self, largeur, hauteur):\n",
    "        self.largeur = largeur\n",
    "        self.hauteur = hauteur\n",
    "\n",
    "    def calculer_surface(self):\n",
    "        return self.largeur * self.hauteur\n",
    "\n",
    "# Exemple d'utilisation :\n",
    "if __name__ == \"__main__\":\n",
    "    cercle = Cercle(5)\n",
    "    rectangle = Rectangle(4, 6)\n",
    "\n",
    "    print(f\"Surface du cercle: {cercle.calculer_surface()}\")\n",
    "    print(f\"Surface du rectangle: {rectangle.calculer_surface()}\")\n"
   ]
  },
  {
   "cell_type": "code",
   "execution_count": 32,
   "id": "1e5ebcc4-200d-46cc-bc86-035b4ab54a4f",
   "metadata": {},
   "outputs": [
    {
     "name": "stdout",
     "output_type": "stream",
     "text": [
      "ali nj 20\n"
     ]
    }
   ],
   "source": [
    "#Exercice2:\n",
    "class Personne:\n",
    "    def __init__(self, nom, prenom, age):\n",
    "        self.__nom = nom\n",
    "        self.__prenom = prenom\n",
    "        self.__age = age\n",
    "\n",
    "    @property\n",
    "    def nom(self):\n",
    "        return self.__nom\n",
    "\n",
    "    @property\n",
    "    def prenom(self):\n",
    "        return self.__prenom\n",
    "\n",
    "    @property\n",
    "    def age(self):\n",
    "        if self.__age > 10:\n",
    "            return self.__age\n",
    "        else:\n",
    "            raise ValueError(\"Age incorrect\")\n",
    "\n",
    "P = Personne(\"ali\", \"nj\", 20)\n",
    "print(P.nom, P.prenom, P.age)"
   ]
  },
  {
   "cell_type": "code",
   "execution_count": 33,
   "id": "679a1939-f2c9-4ff8-9603-a44d8d5ab847",
   "metadata": {},
   "outputs": [
    {
     "name": "stdout",
     "output_type": "stream",
     "text": [
      "Surface de Cercle : 78.54\n",
      "Surface de Rectangle : 28.00\n"
     ]
    }
   ],
   "source": [
    "#Exercice3:\n",
    "def afficher_surface(formes):\n",
    "    for forme in formes:\n",
    "        if isinstance(forme, Forme):\n",
    "            print(f\"Surface de {type(forme).__name__} : {forme.calculer_surface():.2f}\")\n",
    "        else:\n",
    "            print(\"ce n'est pas  une forme.\")\n",
    "cercle = Cercle(5)\n",
    "rectangle = Rectangle(4, 7) \n",
    "formes = [cercle, rectangle]\n",
    "afficher_surface(formes)\n"
   ]
  },
  {
   "cell_type": "code",
   "execution_count": 34,
   "id": "19a3f231-2974-4272-bcf4-126d4e6d7bd3",
   "metadata": {},
   "outputs": [
    {
     "data": {
      "text/plain": [
       "3200"
      ]
     },
     "execution_count": 34,
     "metadata": {},
     "output_type": "execute_result"
    }
   ],
   "source": [
    "#Exercice4:\n",
    "class Produit:\n",
    "    def __init__(self,nom,prix):\n",
    "        self.__nom=nom\n",
    "        self.__prix=prix\n",
    "    def ajout_remise(self,remise):\n",
    "        if self.__prix>1000:\n",
    "           self.__prix=self.__prix+remise\n",
    "           return self.__prix\n",
    "        else :\n",
    "           raise ValueError(\"pas de remise\")\n",
    "Produit1=Produit('LK',3000)   \n",
    "Produit1.ajout_remise(200)"
   ]
  },
  {
   "cell_type": "code",
   "execution_count": 35,
   "id": "8544e928-e98c-4cf5-bcf0-8868b5866f06",
   "metadata": {},
   "outputs": [],
   "source": [
    "#Exercice5:\n",
    "class Employe:\n",
    "     def __init__(self,nom,prenom,salaire):\n",
    "        self.nom=nom\n",
    "        self.prenom=prenom\n",
    "        self.salaire=salaire\n",
    "class Manager(Employe):\n",
    "    def __init__(self,nom,prenom,salaire):\n",
    "        super().__init__(nom,prenom,salaire)\n",
    "        self.employe=[]\n",
    "    def add_employe(self,new_employe):\n",
    "        if len(self.employe)<10:\n",
    "            if new_employe not in self.employe:\n",
    "               self.employe.append(new_employe)\n",
    "               return \"ajout validé\"\n",
    "            return \"employe existe déja\"   \n",
    "        return \"liste est pleine\"\n",
    "    def afficher_employe(self):\n",
    "        for my_employee in self.employe:\n",
    "           print(\"{}{}{}\".format(my_employee.nom,my_employee.prenom,my_employee.salaire))\n",
    "            \n",
    "        \n",
    "         "
   ]
  },
  {
   "cell_type": "code",
   "execution_count": 30,
   "id": "162b83be-d144-40d2-b874-3afed0583f2d",
   "metadata": {},
   "outputs": [
    {
     "name": "stdout",
     "output_type": "stream",
     "text": [
      "alexws3000\n",
      "carlajk9000\n"
     ]
    }
   ],
   "source": [
    "emp1=Employe(\"alex\",\"ws\",3000)\n",
    "emp2=Employe(\"carla\",\"jk\",9000)\n",
    "manager=Manager(\"manager1\",\"s\",12000)\n",
    "manager.add_employe(emp1)\n",
    "manager.add_employe(emp2)\n",
    "manager.afficher_employe()"
   ]
  },
  {
   "cell_type": "code",
   "execution_count": 54,
   "id": "f3a5aa7b-bc80-49a5-8a8d-ed2b38809399",
   "metadata": {},
   "outputs": [],
   "source": [
    "#Exercice6:\n",
    "class Commande:\n",
    "    def __init__(self,produit,quantite):\n",
    "        if isinstance(produit,Produit):\n",
    "          self.produit=produit\n",
    "          self.quantite=quantite\n",
    "class Panier:\n",
    "    def __init__(self):\n",
    "        self.commande=[]\n",
    "    def ajout_commande(self,new_commande):\n",
    "        if len(self.commande)<20 and new_commande not in self.commande :\n",
    "            self.commande.append(new_commande)\n",
    "            print(\"ajout valide\")\n",
    "    def total_panier(self):\n",
    "        print(len(self.commande))\n",
    "        for command in self.commande:\n",
    "            print(command.quantite)\n",
    "            \n",
    "            \n",
    "        "
   ]
  },
  {
   "cell_type": "code",
   "execution_count": 63,
   "id": "8094755a-5df1-4028-a7e0-830100435022",
   "metadata": {},
   "outputs": [
    {
     "name": "stdout",
     "output_type": "stream",
     "text": [
      "ajout valide\n",
      "ajout valide\n",
      "2\n",
      "12\n",
      "16\n"
     ]
    }
   ],
   "source": [
    "commande=Commande(Produit1,12)\n",
    "Produit2=Produit('my',2000)  \n",
    "commande2=Commande(Produit2,16)\n",
    "panier=Panier()\n",
    "panier.ajout_commande(commande)\n",
    "panier.ajout_commande(commande2)\n",
    "panier.total_panier()"
   ]
  },
  {
   "cell_type": "code",
   "execution_count": 65,
   "id": "615446fc-8b4f-4ea1-b2d3-ff88b801401d",
   "metadata": {},
   "outputs": [],
   "source": [
    "#exercice7\n",
    "from abc import ABC,abstractmethod\n",
    "class Vehicule(ABC):\n",
    "    @abstractmethod\n",
    "    def deplacer(self):\n",
    "        pass\n",
    "class Voiture(Vehicule):\n",
    "    def deplacer(self):\n",
    "        print('vous deplacez avec une vehicule') \n",
    "class Bicyclette(Vehicule):\n",
    "    def deplacer(self):\n",
    "        print('vous deplacez avec une vehicule')        "
   ]
  },
  {
   "cell_type": "code",
   "execution_count": 68,
   "id": "5ea72670-e772-4c37-8d33-2e5fc17a3cc4",
   "metadata": {},
   "outputs": [
    {
     "name": "stdout",
     "output_type": "stream",
     "text": [
      "lp\n",
      "oi\n"
     ]
    }
   ],
   "source": [
    "b= Bicyclette()\n",
    "v=Voiture()\n",
    "b.deplacer()\n",
    "v.deplacer()"
   ]
  },
  {
   "cell_type": "code",
   "execution_count": null,
   "id": "2de016ea-34ea-4951-b816-215922f9a903",
   "metadata": {},
   "outputs": [],
   "source": []
  }
 ],
 "metadata": {
  "kernelspec": {
   "display_name": "Python 3 (ipykernel)",
   "language": "python",
   "name": "python3"
  },
  "language_info": {
   "codemirror_mode": {
    "name": "ipython",
    "version": 3
   },
   "file_extension": ".py",
   "mimetype": "text/x-python",
   "name": "python",
   "nbconvert_exporter": "python",
   "pygments_lexer": "ipython3",
   "version": "3.11.7"
  }
 },
 "nbformat": 4,
 "nbformat_minor": 5
}
