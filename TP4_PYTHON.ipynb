{
 "cells": [
  {
   "cell_type": "code",
   "execution_count": 21,
   "id": "ee88b14f-c0b8-4094-a5ab-a168962b7d9e",
   "metadata": {},
   "outputs": [
    {
     "data": {
      "text/plain": [
       "'X Y 2004'"
      ]
     },
     "execution_count": 21,
     "metadata": {},
     "output_type": "execute_result"
    }
   ],
   "source": [
    "class Vehicule:\n",
    "    def __init__(self,marque,modele,annee):\n",
    "        self.marque=marque\n",
    "        self.modele=modele\n",
    "        self.annee=annee\n",
    "    def afficher_info(self):\n",
    "        return '{} {} {}'.format(self.marque,self.modele,self.annee)\n",
    "v1=Vehicule(\"X\",\"Y\",2004)\n",
    "v1.afficher_info()"
   ]
  },
  {
   "cell_type": "code",
   "execution_count": 19,
   "id": "e43a2728-8163-4c31-9102-eda173a16e75",
   "metadata": {},
   "outputs": [
    {
     "data": {
      "text/plain": [
       "'4 essence'"
      ]
     },
     "execution_count": 19,
     "metadata": {},
     "output_type": "execute_result"
    }
   ],
   "source": [
    "class Moteur:\n",
    "     def __init__(self,puissance,type_moteur):\n",
    "         if type_moteur not in [\"essence\",\"disel\",\"électrique\"]:\n",
    "            raise ValueError(\"Le moteur ne peut être créé que si le type est 'Essence'.\")\n",
    "         self.puissance = puissance\n",
    "         self.type_moteur = type_moteur\n",
    "     def afficher_moteur(self):\n",
    "         return '{} {}'.format(self.puissance,self.type_moteur)\n",
    "M1=Moteur(4,\"essence\")         \n",
    "M1.afficher_moteur()         "
   ]
  },
  {
   "cell_type": "code",
   "execution_count": 22,
   "id": "6325f16a-dc24-47f8-8ec5-55b39ca6c18a",
   "metadata": {},
   "outputs": [
    {
     "data": {
      "text/plain": [
       "'X Y 2004 4 essence 5'"
      ]
     },
     "execution_count": 22,
     "metadata": {},
     "output_type": "execute_result"
    }
   ],
   "source": [
    "class Voiture(Vehicule,Moteur):\n",
    "     def __init__(self,marque,modele,annee,puissance,type_moteur,nombre_de_places):\n",
    "         Vehicule.__init__(self,marque,modele,annee)\n",
    "         Moteur.__init__(self,puissance,type_moteur)\n",
    "         self.nombre_de_places=nombre_de_places\n",
    "     def afficher_info(self):\n",
    "         return '{} {} {}'.format(Vehicule.afficher_info(self),Moteur.afficher_moteur(self),self.nombre_de_places)\n",
    "VOI=Voiture(\"X\",\"Y\",2004,4,\"essence\",5) \n",
    "VOI.afficher_info()"
   ]
  },
  {
   "cell_type": "code",
   "execution_count": 23,
   "id": "871da7ba-5668-42d6-96f4-bfc4ea3e6317",
   "metadata": {},
   "outputs": [
    {
     "data": {
      "text/plain": [
       "'LO Y 2024 6 essence sport'"
      ]
     },
     "execution_count": 23,
     "metadata": {},
     "output_type": "execute_result"
    }
   ],
   "source": [
    "class Moto(Vehicule,Moteur):\n",
    "     def __init__(self,marque,modele,annee,puissance,type_moteur,type_moto):\n",
    "         Vehicule.__init__(self,marque,modele,annee)\n",
    "         Moteur.__init__(self,puissance,type_moteur)\n",
    "         self.type_moto=type_moto\n",
    "     def afficher_info(self):\n",
    "         return '{} {} {}'.format(Vehicule.afficher_info(self),Moteur.afficher_moteur(self),self.type_moto)\n",
    "Moto1=Moto(\"LO\",\"Y\",2024,6,\"essence\",\"sport\") \n",
    "Moto1.afficher_info()"
   ]
  },
  {
   "cell_type": "code",
   "execution_count": 24,
   "id": "6a1b1ff2-9368-4b45-97dd-0a3c443c5c67",
   "metadata": {},
   "outputs": [
    {
     "data": {
      "text/plain": [
       "[__main__.Voiture, __main__.Vehicule, __main__.Moteur, object]"
      ]
     },
     "execution_count": 24,
     "metadata": {},
     "output_type": "execute_result"
    }
   ],
   "source": [
    "#method resolution object\n",
    "Voiture.mro()"
   ]
  },
  {
   "cell_type": "code",
   "execution_count": null,
   "id": "656be725-f5a4-4403-998d-2bbbdd7c42e7",
   "metadata": {},
   "outputs": [],
   "source": []
  }
 ],
 "metadata": {
  "kernelspec": {
   "display_name": "Python 3 (ipykernel)",
   "language": "python",
   "name": "python3"
  },
  "language_info": {
   "codemirror_mode": {
    "name": "ipython",
    "version": 3
   },
   "file_extension": ".py",
   "mimetype": "text/x-python",
   "name": "python",
   "nbconvert_exporter": "python",
   "pygments_lexer": "ipython3",
   "version": "3.11.7"
  }
 },
 "nbformat": 4,
 "nbformat_minor": 5
}
